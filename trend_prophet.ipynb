{
 "cells": [
  {
   "cell_type": "code",
   "execution_count": null,
   "metadata": {},
   "outputs": [],
   "source": [
    "%load_ext autoreload\n",
    "%autoreload 2"
   ]
  },
  {
   "cell_type": "code",
   "execution_count": null,
   "metadata": {},
   "outputs": [],
   "source": [
    "import os\n",
    "import sys\n",
    "\n",
    "try:\n",
    "  from google.colab import drive\n",
    "  IN_COLAB=True\n",
    "except:\n",
    "  IN_COLAB=False\n",
    "\n",
    "if IN_COLAB:\n",
    "    sys.path.append(\"AITech-forecasting\")\n",
    "    os.system(\"git clone https://github.com/DominikHuss/AITech-forecasting.git; \\\n",
    "               cd AITech-forecasting; \\\n",
    "               git checkout workshop; \\\n",
    "               pip install -r requirements.txt\")"
   ]
  },
  {
   "cell_type": "code",
   "execution_count": null,
   "metadata": {},
   "outputs": [],
   "source": [
    "import jax.numpy as jnp\n",
    "import jax\n",
    "\n",
    "import matplotlib.pyplot as plt\n",
    "\n",
    "from typing import Tuple"
   ]
  },
  {
   "cell_type": "code",
   "execution_count": null,
   "metadata": {},
   "outputs": [],
   "source": [
    "def get_changepoint_matrix(T: int, \n",
    "                           S: int) -> Tuple[jnp.ndarray, jnp.ndarray]:\n",
    "    \"\"\" \n",
    "    Function generating a vector of changepoints' times s, and the changepoint matrix A. The shapes shoud be:\n",
    "    (T, S) for matrix A, and\n",
    "    (S,) for vector s.\n",
    "\n",
    "    NOTE: There shouldn't be a changpoint at 0, i.e. set(s) - set([0]) == set(s).\n",
    "\n",
    "    :param int T: Length of the time-series,\n",
    "    :param int S: Number of changepoints.\n",
    "\n",
    "    :return: Changepoint matrix A, and the vector of changepoint times s.\n",
    "    :rtype: Tuple[jnp.ndarray, jnp.ndarray]\n",
    "    \"\"\"\n",
    "\n",
    "    # TODO: Complete the function\n",
    "    s = None\n",
    "    A = None\n",
    "    return A, s\n",
    "\n",
    "print(get_changepoint_matrix(10, 2))"
   ]
  },
  {
   "cell_type": "code",
   "execution_count": null,
   "metadata": {},
   "outputs": [],
   "source": [
    "k = 0\n",
    "ro = jnp.array([1,-2])\n",
    "A, s = get_changepoint_matrix(10, 2)\n",
    "\n",
    "t = jnp.arange(10)\n",
    "# TODO: left part of eq. (4)\n",
    "g1 = None"
   ]
  },
  {
   "cell_type": "code",
   "execution_count": null,
   "metadata": {},
   "outputs": [],
   "source": [
    "plt.plot(t, g1)\n",
    "plt.show()"
   ]
  },
  {
   "cell_type": "code",
   "execution_count": null,
   "metadata": {},
   "outputs": [],
   "source": [
    "m = 0\n",
    "\n",
    "# TODO: right part of eq. (4)\n",
    "g2 = None"
   ]
  },
  {
   "cell_type": "code",
   "execution_count": null,
   "metadata": {},
   "outputs": [],
   "source": [
    "g = g1+g2\n",
    "print(g1)\n",
    "print(g2)\n",
    "print(g)\n",
    "\n",
    "plt.plot(t, g)\n",
    "plt.show()"
   ]
  },
  {
   "cell_type": "code",
   "execution_count": null,
   "metadata": {},
   "outputs": [],
   "source": [
    "def get_trend(T: int, \n",
    "              S: int, \n",
    "              k: int, \n",
    "              m: int, \n",
    "              ro: jnp.ndarray) -> Tuple[jnp.ndarray, jnp.ndarray]:\n",
    "    \"\"\"\n",
    "    Function calculating eq. (4). Outputs t, and g-axes ready to be plotted, with shapes:\n",
    "    (T,) for t, and\n",
    "    (T,) for g.\n",
    "\n",
    "    :param T int: Length of the time-series,\n",
    "    :param S int: Number of changepoints,\n",
    "    :param k int: Growth rate,\n",
    "    :param m int: Offset,\n",
    "    :param ro jnp.ndarray: Weights vector of shape (S,).\n",
    "    :returns: t and g-axes.\n",
    "    :rtype: Tuple[jnp.ndarray, jnp.ndarray]\n",
    "    \"\"\"\n",
    "    t = jnp.arange(T)\n",
    "\n",
    "    # TODO: Combine previous snippets to calulate the entire eq. (4)\n",
    "    g = None\n",
    "    return t, g"
   ]
  },
  {
   "cell_type": "code",
   "execution_count": null,
   "metadata": {},
   "outputs": [],
   "source": [
    "key = jax.random.PRNGKey(0)\n",
    "x, y = get_trend(100, 20, 1, 1, jax.random.normal(key, (20,)))\n",
    "plt.plot(x,y)\n",
    "plt.show()"
   ]
  },
  {
   "cell_type": "code",
   "execution_count": null,
   "metadata": {},
   "outputs": [],
   "source": [
    "def get_trend2(T: int, \n",
    "               S: int, \n",
    "               ro: jnp.ndarray) -> Tuple[jnp.ndarray, jnp.ndarray]:\n",
    "    \"\"\"\n",
    "    Function calculating eq. (4) in matrix form. That is to say, \n",
    "    terms in the equation are rearranged such that they can be \n",
    "    expressed as one matrix-vector multiplication. Outputs t, and g-axes \n",
    "    ready to be plotted, with shapes:\n",
    "    (T,) for t, and\n",
    "    (T,) for g.\n",
    "\n",
    "    NOTE: ro.shape[0] is now larger by 2, to account for parameters k and m\n",
    "\n",
    "    :param T int: Length of the time-series,\n",
    "    :param S int: Number of changepoints,\n",
    "    :param ro jnp.ndarray: Weights vector of shape (S+2,).\n",
    "    :returns: t and g-axes.\n",
    "    :rtype: Tuple[jnp.ndarray, jnp.ndarray]\n",
    "    \"\"\"\n",
    "\n",
    "    t = jnp.arange(T)\n",
    "\n",
    "    # TODO: Construct appropriate matrix X\n",
    "    X = None\n",
    "\n",
    "    g = X@ro\n",
    "    return t, g\n",
    "\n",
    "key = jax.random.PRNGKey(0)\n",
    "x, y = get_trend2(100, 20, jax.random.normal(key, (22,)))\n",
    "plt.plot(x,y)\n",
    "plt.show()"
   ]
  }
 ],
 "metadata": {
  "interpreter": {
   "hash": "a0ed290a1ef37dca470350c47484a72659aff3877726f017c065708c824f4c3c"
  },
  "kernelspec": {
   "display_name": "Python 3.7.13 ('Dominik_forcasting')",
   "language": "python",
   "name": "python3"
  },
  "language_info": {
   "codemirror_mode": {
    "name": "ipython",
    "version": 3
   },
   "file_extension": ".py",
   "mimetype": "text/x-python",
   "name": "python",
   "nbconvert_exporter": "python",
   "pygments_lexer": "ipython3",
   "version": "3.7.13"
  },
  "orig_nbformat": 4
 },
 "nbformat": 4,
 "nbformat_minor": 2
}
