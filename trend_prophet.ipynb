{
 "cells": [
  {
   "cell_type": "code",
   "execution_count": null,
   "metadata": {},
   "outputs": [],
   "source": [
    "import jax.numpy as jnp\n",
    "import jax\n",
    "\n",
    "import matplotlib.pyplot as plt"
   ]
  },
  {
   "cell_type": "code",
   "execution_count": null,
   "metadata": {},
   "outputs": [],
   "source": [
    "def get_changepoint_matrix(T, S):\n",
    "    step = T/(S+1)\n",
    "    s = jnp.arange(start=0, stop=T, step=step).astype(int)[1:]\n",
    "    f = jax.vmap(lambda x: jnp.where(jnp.arange(T) >= x, jnp.ones(T), jnp.zeros(T)), 0, 0)\n",
    "    A = f(s).T\n",
    "    return A, s\n",
    "\n",
    "print(get_changepoint_matrix(10, 2))"
   ]
  },
  {
   "cell_type": "code",
   "execution_count": null,
   "metadata": {},
   "outputs": [],
   "source": [
    "k = 0\n",
    "ro = jnp.array([1,-2])\n",
    "A, s = get_changepoint_matrix(10, 2)\n",
    "\n",
    "t = jnp.arange(10)\n",
    "g1 = (k+A@ro)*t"
   ]
  },
  {
   "cell_type": "code",
   "execution_count": null,
   "metadata": {},
   "outputs": [],
   "source": [
    "plt.plot(t, g1)\n",
    "plt.show()"
   ]
  },
  {
   "cell_type": "code",
   "execution_count": null,
   "metadata": {},
   "outputs": [],
   "source": [
    "m = 0\n",
    "gamma = A@(s*ro)\n",
    "\n",
    "g2 = m+gamma"
   ]
  },
  {
   "cell_type": "code",
   "execution_count": null,
   "metadata": {},
   "outputs": [],
   "source": [
    "g = g1+g2\n",
    "print(g1)\n",
    "print(g2)\n",
    "print(g)\n",
    "\n",
    "plt.plot(t, g)\n",
    "plt.show()"
   ]
  },
  {
   "cell_type": "code",
   "execution_count": null,
   "metadata": {},
   "outputs": [],
   "source": [
    "def get_trend(T, S, k, m, ro):\n",
    "    A, s = get_changepoint_matrix(T, S)\n",
    "\n",
    "    t = jnp.arange(T)\n",
    "    g = (k+A@ro)*t + (m - A@(s*ro))\n",
    "    return t, g"
   ]
  },
  {
   "cell_type": "code",
   "execution_count": null,
   "metadata": {},
   "outputs": [],
   "source": [
    "key = jax.random.PRNGKey(0)\n",
    "\n",
    "x, y = get_trend(100, 20, 1, 0, jax.random.normal(key, (20,)))\n",
    "plt.plot(x,y)\n",
    "plt.show()"
   ]
  }
 ],
 "metadata": {
  "language_info": {
   "name": "python"
  },
  "orig_nbformat": 4
 },
 "nbformat": 4,
 "nbformat_minor": 2
}
