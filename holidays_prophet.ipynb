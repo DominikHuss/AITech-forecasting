{
 "cells": [
  {
   "cell_type": "code",
   "execution_count": null,
   "metadata": {},
   "outputs": [],
   "source": [
    "%load_ext autoreload\n",
    "%autoreload 2"
   ]
  },
  {
   "cell_type": "code",
   "execution_count": null,
   "metadata": {},
   "outputs": [],
   "source": [
    "import os\n",
    "import sys\n",
    "\n",
    "try:\n",
    "  from google.colab import drive\n",
    "  IN_COLAB=True\n",
    "except:\n",
    "  IN_COLAB=False\n",
    "\n",
    "if IN_COLAB:\n",
    "    sys.path.append(\"AITech-forecasting\")\n",
    "    os.system(\"git clone https://github.com/DominikHuss/AITech-forecasting.git; \\\n",
    "               cd AITech-forecasting; \\\n",
    "               git checkout workshop; \\\n",
    "               pip install -r requirements.txt\")"
   ]
  },
  {
   "cell_type": "code",
   "execution_count": 1,
   "metadata": {},
   "outputs": [],
   "source": [
    "import jax.numpy as jnp\n",
    "import jax\n",
    "\n",
    "import matplotlib.pyplot as plt\n",
    "\n",
    "from typing import Tuple"
   ]
  },
  {
   "cell_type": "code",
   "execution_count": 5,
   "metadata": {},
   "outputs": [],
   "source": [
    "d = 10\n",
    "\n",
    "h_key = jax.random.PRNGKey(392586)\n",
    "D = jax.random.uniform(h_key, (d,), minval=0, maxval=100).astype(int)\n",
    "\n",
    "def get_holidays(T: int, \n",
    "                 D: jnp.ndarray, \n",
    "                 kappa: jnp.ndarray) -> Tuple[jnp.ndarray, jnp.ndarray]:\n",
    "    \"\"\"\n",
    "    Function calculating eq. (7).\n",
    "    Outputs t, and h-axes ready to be plotted, with shapes:\n",
    "    (T,) for t, and\n",
    "    (T,) for h.\n",
    "\n",
    "    :param T int: Length of the time-series,\n",
    "    :param D jnp.ndarray: A vector of days indices at which holidays occur. Shape (d,),\n",
    "    :param kappa jnp.ndarray: Weights vector of shape (d,).\n",
    "    :returns: t and h-axes.\n",
    "    :rtype: Tuple[jnp.ndarray, jnp.ndarray]\n",
    "    \"\"\"\n",
    "    t = jnp.arange(T)\n",
    "    \n",
    "    # TODO: Complete the function.\n",
    "    Z = None\n",
    "\n",
    "    h = Z@kappa\n",
    "    return t, h"
   ]
  },
  {
   "cell_type": "code",
   "execution_count": 7,
   "metadata": {},
   "outputs": [
    {
     "data": {
      "image/png": "[encoded data removed]",
      "text/plain": [
       "<Figure size 432x288 with 1 Axes>"
      ]
     },
     "metadata": {
      "needs_background": "light"
     },
     "output_type": "display_data"
    }
   ],
   "source": [
    "key = jax.random.PRNGKey(0)\n",
    "x, y = get_holidays(100, D, jax.random.normal(key, (d,)))\n",
    "plt.plot(x,y)\n",
    "plt.show()"
   ]
  }
 ],
 "metadata": {
  "interpreter": {
   "hash": "069235fa295c93ceee9c6ab1f76203b52935858fac879f14457584cbca9e3a9d"
  },
  "kernelspec": {
   "display_name": "Python 3.7.13 ('AITech')",
   "language": "python",
   "name": "python3"
  },
  "language_info": {
   "codemirror_mode": {
    "name": "ipython",
    "version": 3
   },
   "file_extension": ".py",
   "mimetype": "text/x-python",
   "name": "python",
   "nbconvert_exporter": "python",
   "pygments_lexer": "ipython3",
   "version": "3.7.13"
  },
  "orig_nbformat": 4
 },
 "nbformat": 4,
 "nbformat_minor": 2
}
