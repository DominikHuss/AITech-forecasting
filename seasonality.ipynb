{
 "cells": [
  {
   "cell_type": "code",
   "execution_count": 5,
   "metadata": {},
   "outputs": [],
   "source": [
    "import jax.numpy as jnp\n",
    "import jax\n",
    "import numpy as np\n",
    "\n",
    "import matplotlib.pyplot as plt"
   ]
  },
  {
   "cell_type": "code",
   "execution_count": 11,
   "metadata": {},
   "outputs": [],
   "source": [
    "t = jnp.arange(10)\n",
    "n = 10\n",
    "P = 365 #for yearly data, 30 monthly, 7 weekly...\n"
   ]
  },
  {
   "cell_type": "code",
   "execution_count": 12,
   "metadata": {},
   "outputs": [],
   "source": [
    "def get_fourier_series(t, P, n):\n",
    "    \n",
    "    fraction = 2 * np.pi / P * N\n",
    "\n",
    "\n",
    "    pass"
   ]
  },
  {
   "cell_type": "code",
   "execution_count": 20,
   "metadata": {},
   "outputs": [],
   "source": [
    "N = jnp.arange(n)\n",
    "fraction = 2 * np.pi / P * N\n",
    "fraction_expanded = jax.numpy.expand_dims(fraction, 1)"
   ]
  },
  {
   "cell_type": "code",
   "execution_count": 21,
   "metadata": {},
   "outputs": [
    {
     "data": {
      "text/plain": [
       "DeviceArray([[0.        ],\n",
       "             [0.01721421],\n",
       "             [0.03442841],\n",
       "             [0.05164262],\n",
       "             [0.06885683],\n",
       "             [0.08607104],\n",
       "             [0.10328524],\n",
       "             [0.12049945],\n",
       "             [0.13771366],\n",
       "             [0.15492786]], dtype=float32, weak_type=True)"
      ]
     },
     "execution_count": 21,
     "metadata": {},
     "output_type": "execute_result"
    }
   ],
   "source": [
    "fraction_expanded"
   ]
  }
 ],
 "metadata": {
  "interpreter": {
   "hash": "a0ed290a1ef37dca470350c47484a72659aff3877726f017c065708c824f4c3c"
  },
  "kernelspec": {
   "display_name": "Python 3.7.13 ('Dominik_forcasting')",
   "language": "python",
   "name": "python3"
  },
  "language_info": {
   "codemirror_mode": {
    "name": "ipython",
    "version": 3
   },
   "file_extension": ".py",
   "mimetype": "text/x-python",
   "name": "python",
   "nbconvert_exporter": "python",
   "pygments_lexer": "ipython3",
   "version": "3.7.13"
  },
  "orig_nbformat": 4
 },
 "nbformat": 4,
 "nbformat_minor": 2
}
